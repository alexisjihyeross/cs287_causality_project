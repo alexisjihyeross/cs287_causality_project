{
  "nbformat": 4,
  "nbformat_minor": 0,
  "metadata": {
    "colab": {
      "name": "CS287_Bert_Final.ipynb",
      "version": "0.3.2",
      "provenance": [],
      "collapsed_sections": [],
      "include_colab_link": true
    },
    "kernelspec": {
      "name": "python3",
      "display_name": "Python 3"
    },
    "accelerator": "GPU"
  },
  "cells": [
    {
      "cell_type": "markdown",
      "metadata": {
        "id": "view-in-github",
        "colab_type": "text"
      },
      "source": [
        "<a href=\"https://colab.research.google.com/github/alexisjihyeross/cs287_causality_project/blob/master/CS287_Bert_Final.ipynb\" target=\"_parent\"><img src=\"https://colab.research.google.com/assets/colab-badge.svg\" alt=\"Open In Colab\"/></a>"
      ]
    },
    {
      "metadata": {
        "id": "6q18d8QUDlc9",
        "colab_type": "code",
        "outputId": "786d52ac-4749-4292-d2d8-e18184abc82c",
        "colab": {
          "base_uri": "https://localhost:8080/",
          "height": 326
        }
      },
      "cell_type": "code",
      "source": [
        "!pip install pytorch-pretrained-bert"
      ],
      "execution_count": 20,
      "outputs": [
        {
          "output_type": "stream",
          "text": [
            "Requirement already satisfied: pytorch-pretrained-bert in /usr/local/lib/python3.6/dist-packages (0.6.1)\n",
            "Requirement already satisfied: numpy in /usr/local/lib/python3.6/dist-packages (from pytorch-pretrained-bert) (1.14.6)\n",
            "Requirement already satisfied: boto3 in /usr/local/lib/python3.6/dist-packages (from pytorch-pretrained-bert) (1.9.130)\n",
            "Requirement already satisfied: tqdm in /usr/local/lib/python3.6/dist-packages (from pytorch-pretrained-bert) (4.28.1)\n",
            "Requirement already satisfied: torch>=0.4.1 in /usr/local/lib/python3.6/dist-packages (from pytorch-pretrained-bert) (1.0.1.post2)\n",
            "Requirement already satisfied: requests in /usr/local/lib/python3.6/dist-packages (from pytorch-pretrained-bert) (2.18.4)\n",
            "Requirement already satisfied: regex in /usr/local/lib/python3.6/dist-packages (from pytorch-pretrained-bert) (2018.1.10)\n",
            "Requirement already satisfied: s3transfer<0.3.0,>=0.2.0 in /usr/local/lib/python3.6/dist-packages (from boto3->pytorch-pretrained-bert) (0.2.0)\n",
            "Requirement already satisfied: botocore<1.13.0,>=1.12.130 in /usr/local/lib/python3.6/dist-packages (from boto3->pytorch-pretrained-bert) (1.12.130)\n",
            "Requirement already satisfied: jmespath<1.0.0,>=0.7.1 in /usr/local/lib/python3.6/dist-packages (from boto3->pytorch-pretrained-bert) (0.9.4)\n",
            "Requirement already satisfied: certifi>=2017.4.17 in /usr/local/lib/python3.6/dist-packages (from requests->pytorch-pretrained-bert) (2019.3.9)\n",
            "Requirement already satisfied: urllib3<1.23,>=1.21.1 in /usr/local/lib/python3.6/dist-packages (from requests->pytorch-pretrained-bert) (1.22)\n",
            "Requirement already satisfied: chardet<3.1.0,>=3.0.2 in /usr/local/lib/python3.6/dist-packages (from requests->pytorch-pretrained-bert) (3.0.4)\n",
            "Requirement already satisfied: idna<2.7,>=2.5 in /usr/local/lib/python3.6/dist-packages (from requests->pytorch-pretrained-bert) (2.6)\n",
            "Requirement already satisfied: docutils>=0.10 in /usr/local/lib/python3.6/dist-packages (from botocore<1.13.0,>=1.12.130->boto3->pytorch-pretrained-bert) (0.14)\n",
            "Requirement already satisfied: python-dateutil<3.0.0,>=2.1; python_version >= \"2.7\" in /usr/local/lib/python3.6/dist-packages (from botocore<1.13.0,>=1.12.130->boto3->pytorch-pretrained-bert) (2.5.3)\n",
            "Requirement already satisfied: six>=1.5 in /usr/local/lib/python3.6/dist-packages (from python-dateutil<3.0.0,>=2.1; python_version >= \"2.7\"->botocore<1.13.0,>=1.12.130->boto3->pytorch-pretrained-bert) (1.11.0)\n"
          ],
          "name": "stdout"
        }
      ]
    },
    {
      "metadata": {
        "id": "B5muvr3Hb5Uk",
        "colab_type": "code",
        "outputId": "4f28e60b-0440-457d-f20a-7738d3744b5c",
        "colab": {
          "base_uri": "https://localhost:8080/",
          "height": 258
        }
      },
      "cell_type": "code",
      "source": [
        "!wget https://gist.githubusercontent.com/W4ngatang/60c2bdb54d156a41194446737ce03e2e/raw/17b8dd0d724281ed7c3b2aeeda662b92809aadd5/download_glue_data.py\n",
        "    \n",
        "!python download_glue_data.py --data_dir glue_data --tasks MNLI # select any number of MNLI,SNLI,QNLI,WNLI"
      ],
      "execution_count": 21,
      "outputs": [
        {
          "output_type": "stream",
          "text": [
            "--2019-04-12 18:46:07--  https://gist.githubusercontent.com/W4ngatang/60c2bdb54d156a41194446737ce03e2e/raw/17b8dd0d724281ed7c3b2aeeda662b92809aadd5/download_glue_data.py\n",
            "Resolving gist.githubusercontent.com (gist.githubusercontent.com)... 151.101.0.133, 151.101.64.133, 151.101.128.133, ...\n",
            "Connecting to gist.githubusercontent.com (gist.githubusercontent.com)|151.101.0.133|:443... connected.\n",
            "HTTP request sent, awaiting response... 200 OK\n",
            "Length: 8225 (8.0K) [text/plain]\n",
            "Saving to: ‘download_glue_data.py.1’\n",
            "\n",
            "\rdownload_glue_data.   0%[                    ]       0  --.-KB/s               \rdownload_glue_data. 100%[===================>]   8.03K  --.-KB/s    in 0s      \n",
            "\n",
            "2019-04-12 18:46:07 (92.9 MB/s) - ‘download_glue_data.py.1’ saved [8225/8225]\n",
            "\n",
            "Downloading and extracting MNLI...\n",
            "\tCompleted!\n"
          ],
          "name": "stdout"
        }
      ]
    },
    {
      "metadata": {
        "id": "8dcY5BvJw9Jw",
        "colab_type": "code",
        "outputId": "0d7fd7b3-e6ab-4dea-e0bf-b0f4bc360d6f",
        "colab": {
          "base_uri": "https://localhost:8080/",
          "height": 391
        }
      },
      "cell_type": "code",
      "source": [
        "!wget -P /content/glue_data/MNLI/neg_test_matched.tsv https://github.com/alexisjihyeross/cs287_causality_project/blob/master/neg_test_matched.tsv\n",
        "!wget -P /content/glue_data/MNLI/neg_test_mismatched.tsv https://github.com/alexisjihyeross/cs287_causality_project/blob/master/neg_test_mismatched.tsv"
      ],
      "execution_count": 22,
      "outputs": [
        {
          "output_type": "stream",
          "text": [
            "--2019-04-12 18:46:32--  https://github.com/alexisjihyeross/cs287_causality_project/blob/master/neg_test_matched.tsv\n",
            "Resolving github.com (github.com)... 140.82.118.4, 140.82.118.3\n",
            "Connecting to github.com (github.com)|140.82.118.4|:443... connected.\n",
            "HTTP request sent, awaiting response... 200 OK\n",
            "Length: unspecified [text/html]\n",
            "Saving to: ‘/content/glue_data/MNLI/neg_test_matched.tsv.1’\n",
            "\n",
            "\rneg_test_matched.ts     [<=>                 ]       0  --.-KB/s               \rneg_test_matched.ts     [ <=>                ]  54.72K  --.-KB/s    in 0.009s  \n",
            "\n",
            "2019-04-12 18:46:32 (5.97 MB/s) - ‘/content/glue_data/MNLI/neg_test_matched.tsv.1’ saved [56029]\n",
            "\n",
            "--2019-04-12 18:46:33--  https://github.com/alexisjihyeross/cs287_causality_project/blob/master/neg_test_mismatched.tsv\n",
            "Resolving github.com (github.com)... 140.82.118.4, 140.82.118.3\n",
            "Connecting to github.com (github.com)|140.82.118.4|:443... connected.\n",
            "HTTP request sent, awaiting response... 200 OK\n",
            "Length: unspecified [text/html]\n",
            "Saving to: ‘/content/glue_data/MNLI/neg_test_mismatched.tsv.1’\n",
            "\n",
            "neg_test_mismatched     [  <=>               ]  54.77K   151KB/s    in 0.4s    \n",
            "\n",
            "2019-04-12 18:46:34 (151 KB/s) - ‘/content/glue_data/MNLI/neg_test_mismatched.tsv.1’ saved [56086]\n",
            "\n"
          ],
          "name": "stdout"
        }
      ]
    },
    {
      "metadata": {
        "id": "z7-WM8kZiNYg",
        "colab_type": "code",
        "colab": {}
      },
      "cell_type": "code",
      "source": [
        "import os\n",
        "import csv\n",
        "import sys\n",
        "import collections\n",
        "from tqdm import tqdm"
      ],
      "execution_count": 0,
      "outputs": []
    },
    {
      "metadata": {
        "id": "3i8Rq37W36Tc",
        "colab_type": "code",
        "colab": {
          "base_uri": "https://localhost:8080/",
          "height": 85
        },
        "outputId": "83883012-ae2f-4a2e-f0d6-0c83dbae133b"
      },
      "cell_type": "code",
      "source": [
        "#make binary versions of train and dev datasets (remove neutral examples)\n",
        "def make_binary(folder, file):\n",
        "  with open(folder + \"/\" + file, encoding='utf-8') as in_file, open(folder + \"/binary_\" + file, mode=\"w\") as out_file:\n",
        "      reader = csv.reader(in_file, delimiter='\\t', quoting=csv.QUOTE_NONE)\n",
        "      writer = csv.writer(out_file, delimiter='\\t')\n",
        "      for row in reader:\n",
        "          if row[-1] != \"neutral\":\n",
        "              writer.writerow(row)\n",
        "              \n",
        "\n",
        "make_binary(\"glue_data/MNLI\", \"dev_matched.tsv\")\n",
        "make_binary(\"glue_data/MNLI\", \"dev_mismatched.tsv\")\n",
        "make_binary(\"glue_data/MNLI\", \"train.tsv\")"
      ],
      "execution_count": 56,
      "outputs": [
        {
          "output_type": "stream",
          "text": [
            "binary_dev_matched.tsv\t   dev_mismatched.tsv\t    README.txt\n",
            "binary_dev_mismatched.tsv  neg_test_matched.tsv     test_matched.tsv\n",
            "binary_train.tsv\t   neg_test_mismatched.tsv  test_mismatched.tsv\n",
            "dev_matched.tsv\t\t   original\t\t    train.tsv\n"
          ],
          "name": "stdout"
        }
      ]
    },
    {
      "metadata": {
        "id": "tuETB_FsDz0B",
        "colab_type": "code",
        "colab": {}
      },
      "cell_type": "code",
      "source": [
        "from pytorch_pretrained_bert import BertConfig, BertTokenizer, BertModel\n",
        "from pytorch_pretrained_bert.modeling import BertPreTrainedModel\n",
        "from pytorch_pretrained_bert.optimization import BertAdam\n",
        "import torch\n",
        "import torch.nn as nn\n",
        "from torch.nn import CrossEntropyLoss\n",
        "from torch.utils.data import DataLoader, TensorDataset"
      ],
      "execution_count": 0,
      "outputs": []
    },
    {
      "metadata": {
        "id": "1L6iR-dMoXLg",
        "colab_type": "code",
        "colab": {}
      },
      "cell_type": "code",
      "source": [
        "InputExample = collections.namedtuple('InputExample', ['guid', 'text_a', 'text_b', 'label'])\n",
        "InputFeatures = collections.namedtuple('InputFeatures', ['input_ids', 'input_mask', 'segment_ids', 'label_id'])\n",
        "\n",
        "def convert_examples_to_features(examples, label_list, max_seq_length, tokenizer):\n",
        "    features = []\n",
        "    for (ex_index, example) in enumerate(examples):\n",
        "        if ex_index % 10000 == 0:\n",
        "            print(\"Writing example %d of %d\" % (ex_index, len(examples)))\n",
        "\n",
        "        tokens_a = tokenizer.tokenize(example.text_a)\n",
        "        tokens_b = tokenizer.tokenize(example.text_b) if example.text_b else None\n",
        "\n",
        "        # truncate sequence pairs, longest one first, accounting for [cls] and [sep]\n",
        "        if example.text_b:\n",
        "            while len(tokens_a) + len(tokens_b) > max_seq_length - 3:\n",
        "                max(tokens_a, tokens_b, key=len).pop()\n",
        "        elif len(tokens_a) > max_seq_length - 2:\n",
        "            tokens_a = tokens_a[:(max_seq_length - 2)]\n",
        "                \n",
        "        # segment_ids indicate token in first or second seq, w/ embedding vectors\n",
        "        # learned for them during pre-training, added to position embedding\n",
        "        tokens = [\"[CLS]\"] + tokens_a + [\"[SEP]\"]\n",
        "        \n",
        "        segment_ids = [0] * len(tokens)\n",
        "\n",
        "        if tokens_b:\n",
        "            tokens += tokens_b + [\"[SEP]\"]\n",
        "            segment_ids += [1] * (len(tokens_b) + 1)\n",
        "\n",
        "        input_ids = tokenizer.convert_tokens_to_ids(tokens)\n",
        "        \n",
        "        input_mask = [1] * len(input_ids) # Only attend to real tokens\n",
        "\n",
        "        seqs = [tokens, input_ids, input_mask, segment_ids]\n",
        "        \n",
        "        padding = [0] * (max_seq_length - len(input_ids))\n",
        "        for seq in seqs[1:]:\n",
        "            seq += padding\n",
        "            assert len(seq) == max_seq_length\n",
        "\n",
        "        label_map = {label: i for i, label in enumerate(label_list)}\n",
        "        label_id = label_map[example.label]\n",
        "        \n",
        "        if ex_index < 3:\n",
        "            print(\"*** Example ***\")\n",
        "            print(\"guid: %s\" % (example.guid))\n",
        "            for n, d in zip(['tokens', 'input_ids', 'input_mask', 'segment_ids'], [tokens, input_ids, input_mask, segment_ids]):\n",
        "                print(f'{n}: {\" \".join([str(x) for x in d])}')\n",
        "            print(\"label: %s (id = %d)\" % (example.label, label_id))\n",
        "\n",
        "        features.append(InputFeatures(input_ids, input_mask, segment_ids, label_id))\n",
        "    return features"
      ],
      "execution_count": 0,
      "outputs": []
    },
    {
      "metadata": {
        "id": "rLETTH-9NEAL",
        "colab_type": "code",
        "colab": {}
      },
      "cell_type": "code",
      "source": [
        "class MnliProcessor:\n",
        "    \"\"\"Processor for the MultiNLI data set (GLUE version).\"\"\"\n",
        "    @classmethod\n",
        "    def _read_tsv(cls, input_file, quotechar=None):\n",
        "        \"\"\"Reads a tab separated value file.\"\"\"\n",
        "        with open(input_file, \"r\") as f:\n",
        "            reader = csv.reader(f, delimiter=\"\\t\", quotechar=quotechar)\n",
        "            lines = []\n",
        "            for line in reader:\n",
        "                if sys.version_info[0] == 2:\n",
        "                    line = list(unicode(cell, 'utf-8') for cell in line)\n",
        "                lines.append(line)\n",
        "            return lines\n",
        "        \n",
        "    def get_labels(self):\n",
        "        \"\"\"Gets the list of labels for this data set.\"\"\"\n",
        "        return [\"contradiction\", \"entailment\", \"neutral\"]\n",
        "\n",
        "    def _create_examples(self, lines, set_type):\n",
        "        \"\"\"Creates examples for the training and dev sets.\"\"\"\n",
        "        examples = []\n",
        "        for (i, line) in enumerate(lines):\n",
        "            if i == 0:\n",
        "                continue\n",
        "            guid = \"%s-%s\" % (set_type, line[0])\n",
        "            text_a = line[8]\n",
        "            text_b = line[9]\n",
        "            if set_type == \"test\":\n",
        "                label = \"contradiction\"\n",
        "            else:\n",
        "                label = line[-1]\n",
        "            examples.append(InputExample(guid, text_a, text_b, label))\n",
        "        return examples\n",
        "    \n",
        "    def get_dataloader(self, data_dir, data_file, tokenizer, batch_size=10, max_seq_len=70):\n",
        "        if data_file not in ['dev_mismatched', 'dev_matched', 'test_matched', 'test_mismatched', 'neg_test_matched', 'neg_test_mismatched', 'train']:\n",
        "            raise KeyError(f'Invalid data file {data_file}')\n",
        "            \n",
        "        data = self._read_tsv(os.path.join(data_dir, f\"{data_file}.tsv\"))\n",
        "        examples = self._create_examples(data, data_file)\n",
        "        labels = self.get_labels()\n",
        "        \n",
        "        train_feats = convert_examples_to_features(examples, labels, max_seq_len, tokenizer)\n",
        "        dataset = [torch.tensor(d, dtype=torch.long) for d in zip(*train_feats)]\n",
        "    \n",
        "        return DataLoader(TensorDataset(*dataset), batch_size=batch_size)\n",
        "    \n",
        "class BinaryMnliProcessor:\n",
        "    \"\"\"Processor for the MultiNLI data set with neutral examples removed.\"\"\"\n",
        "    @classmethod\n",
        "    def _read_tsv(cls, input_file, quotechar=None):\n",
        "        \"\"\"Reads a tab separated value file.\"\"\"\n",
        "        with open(input_file, \"r\") as f:\n",
        "            reader = csv.reader(f, delimiter=\"\\t\", quotechar=quotechar)\n",
        "            lines = []\n",
        "            for line in reader:\n",
        "                if sys.version_info[0] == 2:\n",
        "                    line = list(unicode(cell, 'utf-8') for cell in line)\n",
        "                lines.append(line)\n",
        "            return lines\n",
        "        \n",
        "    def get_labels(self):\n",
        "        \"\"\"Gets the list of labels for this data set.\"\"\"\n",
        "        return [\"contradiction\", \"entailment\"]\n",
        "\n",
        "    def _create_examples(self, lines, set_type):\n",
        "        \"\"\"Creates examples for the training and dev sets.\"\"\"\n",
        "        examples = []\n",
        "        for (i, line) in enumerate(lines):\n",
        "            if i == 0:\n",
        "                continue\n",
        "            guid = \"%s-%s\" % (set_type, line[0])\n",
        "            text_a = line[8]\n",
        "            text_b = line[9]\n",
        "            if set_type == \"test\":\n",
        "                label = \"contradiction\"\n",
        "            else:\n",
        "                label = line[-1]\n",
        "            examples.append(InputExample(guid, text_a, text_b, label))\n",
        "        return examples\n",
        "      \n",
        "    def get_dataloader(self, data_dir, data_file, tokenizer, batch_size=10, max_seq_len=70):\n",
        "        if data_file not in ['binary_dev_mismatched', 'binary_dev_matched', 'test_matched', 'test_mismatched', 'neg_test_matched', 'neg_test_mismatched', 'binary_train']:\n",
        "            raise KeyError(f'Invalid data file {data_file}')\n",
        "            \n",
        "        data = self._read_tsv(os.path.join(data_dir, f\"{data_file}.tsv\"))\n",
        "        examples = self._create_examples(data, data_file)\n",
        "        labels = self.get_labels()\n",
        "        \n",
        "        train_feats = convert_examples_to_features(examples, labels, max_seq_len, tokenizer)\n",
        "        dataset = [torch.tensor(d, dtype=torch.long) for d in zip(*train_feats)]\n",
        "    \n",
        "        return DataLoader(TensorDataset(*dataset), batch_size=batch_size)"
      ],
      "execution_count": 0,
      "outputs": []
    },
    {
      "metadata": {
        "id": "OSye16L9WadI",
        "colab_type": "code",
        "colab": {
          "base_uri": "https://localhost:8080/",
          "height": 147
        },
        "outputId": "4a86994e-bfdb-4ad6-b8e3-a4d0cb3405a2"
      },
      "cell_type": "code",
      "source": [
        "class BertForSequenceClassification(BertPreTrainedModel):\n",
        "    \"\"\"BERT model w/ pooled output to linear layer \n",
        "    Params:\n",
        "        `config`: a BertConfig instance with the config to build a new model\n",
        "        `num_labels`: number of classes for classifier. Default = 2\n",
        "    Inputs:\n",
        "        `input_ids`: [batch_size, seq_length] of word token indices\n",
        "        `token_type_ids`: optional [batch_size, seq_length] with [0, 1] for sentence [A, B] tokens\n",
        "        `attention_mask`: optional [batch_size, seq_length] with [0, 1] to mask out attention on padding\n",
        "        `labels`: optional [batch_size] of class output [0, ..., num_labels]\n",
        "    Outputs:\n",
        "        if `labels` is not `None`: CrossEntropy loss of output with labels.\n",
        "        if `labels` is `None`: Class logits [batch_size, num_labels]\n",
        "    \"\"\"MN\n",
        "    def __init__(self, config, num_labels):\n",
        "        super(BertForSequenceClassification, self).__init__(config)\n",
        "        self.num_labels = num_labels\n",
        "        self.bert = BertModel(config)\n",
        "        self.dropout = nn.Dropout(config.hidden_dropout_prob)\n",
        "        self.classifier = nn.Linear(config.hidden_size, num_labels)\n",
        "        self.apply(self.init_bert_weights)\n",
        "\n",
        "    def forward(self, input_ids, token_type_ids=None, attention_mask=None, labels=None, modification=None):\n",
        "        _, pooled_output = self.bert(input_ids, token_type_ids, attention_mask, output_all_encoded_layers=False)\n",
        "        \n",
        "        if modification:\n",
        "            pooled_output = modification(pooled_output)\n",
        "        \n",
        "        pooled_output = self.dropout(pooled_output)\n",
        "        logits = self.classifier(pooled_output)\n",
        "\n",
        "        if labels is not None:\n",
        "            loss_fct = CrossEntropyLoss()\n",
        "            loss = loss_fct(logits.view(-1, self.num_labels), labels.view(-1))\n",
        "            return loss, pooled_output\n",
        "        else:\n",
        "            return logits, pooled_output"
      ],
      "execution_count": 27,
      "outputs": [
        {
          "output_type": "error",
          "ename": "SyntaxError",
          "evalue": "ignored",
          "traceback": [
            "\u001b[0;36m  File \u001b[0;32m\"<ipython-input-27-6d12514324a6>\"\u001b[0;36m, line \u001b[0;32m14\u001b[0m\n\u001b[0;31m    \"\"\"MN\u001b[0m\n\u001b[0m         \n^\u001b[0m\n\u001b[0;31mSyntaxError\u001b[0m\u001b[0;31m:\u001b[0m invalid syntax\n"
          ]
        }
      ]
    },
    {
      "metadata": {
        "id": "-KZTymYSQONS",
        "colab_type": "code",
        "colab": {}
      },
      "cell_type": "code",
      "source": [
        "BERT_SIZE = 'base'  # or 'large'\n",
        "BERT_CASED = False\n",
        "DATA_DIR = 'glue_data/MNLI'\n",
        "CACHE_DIR = 'cache'\n",
        "MODEL = f'bert-{BERT_SIZE}-{\"cased\" if BERT_CASED else \"uncased\"}'\n",
        "\n",
        "\n",
        "tokenizer = BertTokenizer.from_pretrained(MODEL, do_lower_case=not BERT_CASED)\n",
        "\n",
        "processor = MnliProcessor()\n",
        "\n",
        "num_labels = len(processor.get_labels())\n",
        "\n",
        "model = BertForSequenceClassification.from_pretrained(MODEL, cache_dir=CACHE_DIR, num_labels=num_labels)"
      ],
      "execution_count": 0,
      "outputs": []
    },
    {
      "metadata": {
        "id": "oZsKDZoCSi7A",
        "colab_type": "code",
        "colab": {}
      },
      "cell_type": "code",
      "source": [
        "train_dataloader = processor.get_dataloader(DATA_DIR, 'train', tokenizer, max_seq_len=70)"
      ],
      "execution_count": 0,
      "outputs": []
    },
    {
      "metadata": {
        "id": "SsMuTNyVVn1b",
        "colab_type": "code",
        "colab": {}
      },
      "cell_type": "code",
      "source": [
        "def train(model, dataloader, lr=5e-5, warmup=0.1, num_epochs=2, device='cuda', finetune=False):\n",
        "    #if finetune is False, freeze pretrained weights\n",
        "    if not finetune:\n",
        "        for param in model.bert.parameters():\n",
        "            param.requires_grad = False\n",
        "            \n",
        "    loss_fct = CrossEntropyLoss()\n",
        "    \n",
        "    batch_size = dataloader.batch_size\n",
        "    \n",
        "    param_optimizer = list(model.named_parameters())\n",
        "    no_decay = ['bias', 'LayerNorm.bias', 'LayerNorm.weight']\n",
        "    params = [\n",
        "        {'params': [p for n, p in param_optimizer if not any(nd in n for nd in no_decay)], 'weight_decay': 0.01},\n",
        "        {'params': [p for n, p in param_optimizer if any(nd in n for nd in no_decay)], 'weight_decay': 0.0}\n",
        "    ]\n",
        "\n",
        "    optimizer = BertAdam(params, lr=lr, warmup=warmup, t_total=len(dataloader))\n",
        "\n",
        "    model.to(device)\n",
        "    \n",
        "    model.train()\n",
        "    \n",
        "    for epoch in range(num_epochs):\n",
        "        for batch in tqdm(train_dataloader):\n",
        "            batch = tuple(t.to(device) for t in batch)\n",
        "            input_ids, input_mask, segment_ids, label_ids = batch\n",
        "\n",
        "            optimizer.zero_grad()\n",
        "\n",
        "            logits, _ = model(input_ids, segment_ids, input_mask, labels=None)\n",
        "\n",
        "            loss = loss_fct(logits.view(-1, num_labels), label_ids.view(-1))\n",
        "            loss.backward()\n",
        "\n",
        "            optimizer.step()"
      ],
      "execution_count": 0,
      "outputs": []
    },
    {
      "metadata": {
        "id": "bTAkwoqSI_Dq",
        "colab_type": "code",
        "colab": {}
      },
      "cell_type": "code",
      "source": [
        "train(model, train_dataloader, num_epochs=1)"
      ],
      "execution_count": 0,
      "outputs": []
    },
    {
      "metadata": {
        "id": "6NloOoebsPIZ",
        "colab_type": "text"
      },
      "cell_type": "markdown",
      "source": [
        ""
      ]
    },
    {
      "metadata": {
        "id": "o8fkxrnRrh0-",
        "colab_type": "code",
        "colab": {}
      },
      "cell_type": "code",
      "source": [
        "torch.save(model, \"fine_tune_one_epoch\")"
      ],
      "execution_count": 0,
      "outputs": []
    }
  ]
}