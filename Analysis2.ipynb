{
 "cells": [
  {
   "cell_type": "code",
   "execution_count": 171,
   "metadata": {},
   "outputs": [],
   "source": [
    "import pandas as pd\n",
    "import numpy as np\n",
    "import seaborn as sns\n",
    "import matplotlib.pyplot as plt\n",
    "import scipy.stats\n",
    "import itertools\n",
    "from tqdm import tqdm_notebook"
   ]
  },
  {
   "cell_type": "code",
   "execution_count": 446,
   "metadata": {},
   "outputs": [],
   "source": [
    "def read_tsv(folder, model, filename, rename=None, ext='tsv'):\n",
    "    filename = '' if not filename else f'_{filename}'\n",
    "    res = pd.read_csv(f'{folder}/{model}{filename}.{ext}', header=None, delimiter='\\t')\n",
    "    if rename:\n",
    "        res = res.rename({0: rename}, axis=1)\n",
    "    return res\n",
    "\n",
    "def process_file(folder, model, filename, **kwargs):\n",
    "    map_acts = kwargs.pop('map_acts', False)\n",
    "    df = read_tsv(folder, model, filename, **kwargs)\n",
    "    \n",
    "    if map_acts:\n",
    "        df = df.applymap(lambda arr: np.array([float(x) for x in arr[1:-1].split(', ')]))\n",
    "        \n",
    "    return np.array(df.values.tolist())\n",
    "\n",
    "def get_files(model='binary_finetune', folder='experiments/may12_3', map_acts=False):\n",
    "    neg_act = process_file(folder, model, 'neg_layer_activation', map_acts=map_acts)\n",
    "    pos_act = process_file(folder, model, 'pos_layer_activation', map_acts=map_acts)\n",
    "    output_logits = process_file(folder, model, '', map_acts=True)\n",
    "    return neg_act, pos_act, output_logits\n",
    "\n",
    "def hist_dist(hists):\n",
    "    vals = [(hist[1][1:] + hist[1][:-1]) / 2 for hist in hists]\n",
    "    weights = [hist[0] for hist in hists]\n",
    "    return scipy.stats.wasserstein_distance(vals[0], vals[1], weights[0], weights[1])\n",
    "\n",
    "\n",
    "def get_groups(pos_output_logits, neg_output_logits, pos_act, neg_act, dim):\n",
    "    positive = pos_output_logits[:, dim]\n",
    "    negative = neg_output_logits[:, dim]\n",
    "\n",
    "    pos_entail = pos_act[positive[:, 0] < positive[:, 1]][..., dim - 1]\n",
    "    neg_entail = neg_act[negative[:, 0] < negative[:, 1]][..., dim - 1]\n",
    "    pos_contradict = pos_act[positive[:, 0] > positive[:, 1]][..., dim - 1]\n",
    "    neg_contradict = neg_act[negative[:, 0] > negative[:, 1]][..., dim - 1]\n",
    "\n",
    "    groups = [pos_entail, neg_entail, pos_contradict, neg_contradict]\n",
    "\n",
    "    return groups\n",
    "\n",
    "def norm_acts(pos, neg):\n",
    "    acts = np.vstack((pos, neg))\n",
    "    amax, amin = acts.max(axis=0), acts.min(axis=0)\n",
    "    print(acts.min(axis=0).shape)\n",
    "    return [2 * (act - amin) / (amax - amin) - 1 for act in [pos, neg]]\n",
    "    return [act / np.max(act, axis=0) for act in [pos, neg]]\n",
    "    return pos / act_norm, neg / act_norm\n",
    "\n",
    "def relevant_dims(files):\n",
    "    neg_act, pos_act, output_logits = files\n",
    "    pos_output_logits = output_logits[:, ::2]\n",
    "    neg_output_logits = output_logits[:, 1::2]\n",
    "    \n",
    "    pos_act, neg_act = norm_acts(pos_act, neg_act)\n",
    "    \n",
    "    batch_size, hidden_dims, _ = pos_output_logits.shape\n",
    "    count = 0\n",
    "    dist_dims = []\n",
    "    for dim in tqdm_notebook(range(1, hidden_dims)):\n",
    "        groups = get_groups(pos_output_logits, neg_output_logits, pos_act, neg_act, dim)\n",
    "        \n",
    "        # TODO: change means/medians and plotting condition to cos dist\n",
    "        means = np.array([np.mean(g) for g in groups])\n",
    "        medians = np.array([np.median(g) for g in groups])\n",
    "        hists = [np.histogram(g, bins=16) for g in groups]\n",
    "        pos_hists = [hists[0], hists[2]]\n",
    "        neg_hists = [hists[1], hists[3]]\n",
    "        \n",
    "        dist = np.sum([hist_dist(x) for x  in itertools.product(pos_hists, neg_hists)])\n",
    "        dist -= (hist_dist(pos_hists) + hist_dist(neg_hists))\n",
    "        \n",
    "        diffs = np.subtract.outer(means[[1, 3]], means[[0, 2]])\n",
    "        diffs_2 = np.subtract.outer(medians[[1, 3]], medians[[0, 2]])\n",
    "        \n",
    "        dist_dims.append((dist, dim))\n",
    "        \n",
    "    dist_dims.sort()\n",
    "    return dist_dims\n",
    "\n",
    "def plot_dims(dist_dims, files, k=5, save_name=None):\n",
    "    neg_act, pos_act, output_logits = files\n",
    "    pos_output_logits = output_logits[:, ::2]\n",
    "    neg_output_logits = output_logits[:, 1::2]\n",
    "    \n",
    "    pos_act, neg_act = norm_acts(pos_act, neg_act)\n",
    "    \n",
    "    labels = ['+ entailment', '- entailment', '+ contradiction', '- contradiction']\n",
    "    \n",
    "    fig, axes = plt.subplots(1, k, figsize=(12, 3), sharey=True)\n",
    "    \n",
    "    for i, (dist, dim) in enumerate(dist_dims[-k:]):\n",
    "        groups = get_groups(pos_output_logits, neg_output_logits, pos_act, neg_act, dim)\n",
    "\n",
    "        print(dim, dist)\n",
    "        sns.set_palette(\"husl\")\n",
    "        for g, l in zip(groups, labels):\n",
    "            sns.distplot(g, hist=True, kde=True, \n",
    "                         bins=int(80/5), label=l,\n",
    "                         hist_kws={'edgecolor':'black'},\n",
    "                         kde_kws={'linewidth': 4},\n",
    "                         ax=axes[i])\n",
    "        axes[i].set_title(f'Dimension {dim}')\n",
    "        \n",
    "    axes[1].set_xlabel('Normalized Neuron Activation')\n",
    "    axes[0].set_ylabel('Sample Count')\n",
    "        \n",
    "            \n",
    "    handles, labels = axes[-1].get_legend_handles_labels()\n",
    "    \n",
    "    plt.subplots_adjust(bottom=0.8, top=1)\n",
    "    lgd = plt.legend(handles, labels, bbox_to_anchor=(1.05, 1), loc=2, ncol=1, borderaxespad=0)\n",
    "    fig.tight_layout(pad=0.25)\n",
    "    if save_name:\n",
    "        plt.savefig(save_name, bbox_extra_artists=(lgd,), bbox_inches='tight')\n",
    "    plt.show()"
   ]
  },
  {
   "cell_type": "code",
   "execution_count": 454,
   "metadata": {},
   "outputs": [],
   "source": [
    "files = get_files(model='three_way_finetune', folder='experiments/may12_1')"
   ]
  },
  {
   "cell_type": "code",
   "execution_count": 455,
   "metadata": {},
   "outputs": [
    {
     "name": "stdout",
     "output_type": "stream",
     "text": [
      "(768,)\n"
     ]
    },
    {
     "data": {
      "application/vnd.jupyter.widget-view+json": {
       "model_id": "dd63f8932d8f455490f12bc4d4ec548c",
       "version_major": 2,
       "version_minor": 0
      },
      "text/plain": [
       "HBox(children=(IntProgress(value=0, max=768), HTML(value='')))"
      ]
     },
     "metadata": {},
     "output_type": "display_data"
    },
    {
     "name": "stdout",
     "output_type": "stream",
     "text": [
      "\n"
     ]
    }
   ],
   "source": [
    "dd = relevant_dims(files)"
   ]
  },
  {
   "cell_type": "code",
   "execution_count": 456,
   "metadata": {},
   "outputs": [
    {
     "name": "stdout",
     "output_type": "stream",
     "text": [
      "(768,)\n",
      "66 1.063533704185042\n",
      "421 1.0652038666774812\n",
      "352 1.0880670850049237\n"
     ]
    },
    {
     "data": {
      "image/png": "[encoded data removed]",
      "text/plain": [
       "<Figure size 864x216 with 3 Axes>"
      ]
     },
     "metadata": {
      "needs_background": "light"
     },
     "output_type": "display_data"
    }
   ],
   "source": [
    "plot_dims(dd, files, k=3, save_name='three_1')"
   ]
  },
  {
   "cell_type": "code",
   "execution_count": 27,
   "metadata": {},
   "outputs": [
    {
     "data": {
      "text/plain": [
       "6"
      ]
     },
     "execution_count": 27,
     "metadata": {},
     "output_type": "execute_result"
    }
   ],
   "source": [
    "sns.color_palette(\"husl\")"
   ]
  },
  {
   "cell_type": "code",
   "execution_count": 262,
   "metadata": {},
   "outputs": [
    {
     "data": {
      "text/plain": [
       "(13842,)"
      ]
     },
     "execution_count": 262,
     "metadata": {},
     "output_type": "execute_result"
    }
   ],
   "source": [
    "pol[np.stack((pol[..., 0] < pol[..., 1],) * 2, axis=2)].shape"
   ]
  },
  {
   "cell_type": "code",
   "execution_count": 222,
   "metadata": {},
   "outputs": [
    {
     "data": {
      "text/plain": [
       "array([[[[0.30011466, 0.69988531, 1.        ],\n",
       "         [0.3109813 , 0.68901867, 1.        ],\n",
       "         [0.31129771, 0.68870229, 1.        ],\n",
       "         ...,\n",
       "         [0.31085467, 0.68914527, 1.        ],\n",
       "         [0.3110294 , 0.68897057, 1.        ],\n",
       "         [0.31105271, 0.68894726, 1.        ]],\n",
       "\n",
       "        [[0.30583954, 0.69416046, 1.        ],\n",
       "         [0.30392027, 0.69607967, 1.        ],\n",
       "         [0.30387118, 0.69612879, 1.        ],\n",
       "         ...,\n",
       "         [0.30363822, 0.69636178, 1.        ],\n",
       "         [0.30381912, 0.69618088, 1.        ],\n",
       "         [0.30380425, 0.69619572, 1.        ]],\n",
       "\n",
       "        [[0.29487121, 0.70512873, 1.        ],\n",
       "         [0.29513368, 0.70486635, 1.        ],\n",
       "         [0.29514304, 0.70485693, 1.        ],\n",
       "         ...,\n",
       "         [0.2947287 , 0.70527136, 1.        ],\n",
       "         [0.29509953, 0.7049005 , 1.        ],\n",
       "         [0.29509586, 0.70490414, 1.        ]],\n",
       "\n",
       "        ...,\n",
       "\n",
       "        [[0.29460022, 0.70539981, 1.        ],\n",
       "         [0.29431516, 0.70568478, 1.        ],\n",
       "         [0.29432935, 0.70567065, 1.        ],\n",
       "         ...,\n",
       "         [0.29416615, 0.70583385, 1.        ],\n",
       "         [0.29423144, 0.70576859, 1.        ],\n",
       "         [0.29420877, 0.70579123, 1.        ]],\n",
       "\n",
       "        [[0.29172233, 0.7082777 , 1.        ],\n",
       "         [0.29271248, 0.70728749, 1.        ],\n",
       "         [0.29268223, 0.70731771, 1.        ],\n",
       "         ...,\n",
       "         [0.29274729, 0.70725274, 1.        ],\n",
       "         [0.29271126, 0.70728874, 1.        ],\n",
       "         [0.29277435, 0.70722568, 1.        ]],\n",
       "\n",
       "        [[0.29787904, 0.70212096, 1.        ],\n",
       "         [0.29776058, 0.70223939, 1.        ],\n",
       "         [0.29756233, 0.70243764, 1.        ],\n",
       "         ...,\n",
       "         [0.29761261, 0.70238739, 1.        ],\n",
       "         [0.29749846, 0.70250154, 1.        ],\n",
       "         [0.29746911, 0.70253086, 1.        ]]],\n",
       "\n",
       "\n",
       "       [[[0.31097898, 0.68902105, 1.        ],\n",
       "         [0.29999623, 0.7000038 , 1.        ],\n",
       "         [0.30032116, 0.69967884, 1.        ],\n",
       "         ...,\n",
       "         [0.30009261, 0.69990742, 1.        ],\n",
       "         [0.30023259, 0.69976741, 1.        ],\n",
       "         [0.30012092, 0.69987911, 1.        ]],\n",
       "\n",
       "        [[0.30378705, 0.69621289, 1.        ],\n",
       "         [0.30576357, 0.69423646, 1.        ],\n",
       "         [0.3058064 , 0.6941936 , 1.        ],\n",
       "         ...,\n",
       "         [0.30580434, 0.69419569, 1.        ],\n",
       "         [0.30577078, 0.69422925, 1.        ],\n",
       "         [0.30577853, 0.6942215 , 1.        ]],\n",
       "\n",
       "        [[0.29509336, 0.7049067 , 1.        ],\n",
       "         [0.29484454, 0.70515543, 1.        ],\n",
       "         [0.29495153, 0.7050485 , 1.        ],\n",
       "         ...,\n",
       "         [0.29489654, 0.70510352, 1.        ],\n",
       "         [0.2948235 , 0.70517653, 1.        ],\n",
       "         [0.2949774 , 0.70502263, 1.        ]],\n",
       "\n",
       "        ...,\n",
       "\n",
       "        [[0.2942144 , 0.70578563, 1.        ],\n",
       "         [0.29457101, 0.70542896, 1.        ],\n",
       "         [0.29449284, 0.7055071 , 1.        ],\n",
       "         ...,\n",
       "         [0.29459763, 0.70540237, 1.        ],\n",
       "         [0.29467869, 0.70532131, 1.        ],\n",
       "         [0.29458049, 0.70541954, 1.        ]],\n",
       "\n",
       "        [[0.29268622, 0.70731372, 1.        ],\n",
       "         [0.29185766, 0.7081424 , 1.        ],\n",
       "         [0.2919766 , 0.70802343, 1.        ],\n",
       "         ...,\n",
       "         [0.29196241, 0.70803756, 1.        ],\n",
       "         [0.29152182, 0.70847821, 1.        ],\n",
       "         [0.29139468, 0.70860535, 1.        ]],\n",
       "\n",
       "        [[0.2975426 , 0.70245737, 1.        ],\n",
       "         [0.29811102, 0.70188898, 1.        ],\n",
       "         [0.29798022, 0.70201981, 1.        ],\n",
       "         ...,\n",
       "         [0.2976459 , 0.70235413, 1.        ],\n",
       "         [0.29785585, 0.70214415, 1.        ],\n",
       "         [0.29778457, 0.70221543, 1.        ]]]])"
      ]
     },
     "execution_count": 222,
     "metadata": {},
     "output_type": "execute_result"
    }
   ],
   "source": [
    "o"
   ]
  },
  {
   "cell_type": "code",
   "execution_count": null,
   "metadata": {},
   "outputs": [],
   "source": []
  }
 ],
 "metadata": {
  "kernelspec": {
   "display_name": "Python 3",
   "language": "python",
   "name": "python3"
  },
  "language_info": {
   "codemirror_mode": {
    "name": "ipython",
    "version": 3
   },
   "file_extension": ".py",
   "mimetype": "text/x-python",
   "name": "python",
   "nbconvert_exporter": "python",
   "pygments_lexer": "ipython3",
   "version": "3.7.3"
  }
 },
 "nbformat": 4,
 "nbformat_minor": 2
}
