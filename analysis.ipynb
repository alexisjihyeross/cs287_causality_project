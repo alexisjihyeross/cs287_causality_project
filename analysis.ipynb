{
 "cells": [
  {
   "cell_type": "code",
   "execution_count": null,
   "metadata": {},
   "outputs": [],
   "source": [
    "import pandas as pd\n",
    "\n",
    "folder = 'experiments/neg_dev_matched'\n",
    "\n",
    "binary_finetune_pos_preds = pd.read_csv(folder + '/binary_finetune_pos_preds.tsv', header=None, delimiter='\\t')\n",
    "binary_finetune_pos_preds=binary_finetune_pos_preds.rename({0: \"pos\"}, axis=1)\n",
    "\n",
    "binary_finetune_neg_preds = pd.read_csv(folder + '/binary_finetune_neg_preds.tsv', header=None, delimiter='\\t')\n",
    "binary_finetune_neg_preds=binary_finetune_neg_preds.rename({0: \"neg\"}, axis=1)\n",
    "\n",
    "full_finetune_pos_preds = pd.read_csv(folder + '/full_two_way_finetune_pos_preds.tsv', header=None, delimiter='\\t')\n",
    "full_finetune_pos_preds=full_finetune_pos_preds.rename({0: \"pos\"}, axis=1)\n",
    "\n",
    "full_finetune_neg_preds = pd.read_csv(folder + '/full_two_way_finetune_neg_preds.tsv', header=None, delimiter='\\t')\n",
    "full_finetune_neg_preds=full_finetune_neg_preds.rename({0: \"neg\"}, axis=1)\n",
    "\n",
    "examples = pd.read_csv('neg_dev_matched.tsv', delimiter='\\t')\n",
    "binary_preds = pd.concat([binary_finetune_pos_preds, binary_finetune_neg_preds, examples], axis=1)\n",
    "binary_preds['pos'] = binary_preds.apply(lambda row: 'c' if row['pos'] == 0 else 'e', axis=1)\n",
    "binary_preds['neg'] = binary_preds.apply(lambda row: 'c' if row['neg'] == 0 else 'e', axis=1)\n",
    "binary_preds['change'] = binary_preds.apply(lambda row: 1 if row['pos'] != row['neg'] else 0, axis=1)\n",
    "\n",
    "full_preds = pd.concat([full_finetune_pos_preds, full_finetune_neg_preds, examples], axis=1)\n",
    "full_preds['pos'] = full_preds.apply(lambda row: 'n' if row['pos'] == 0 else 'e', axis=1)\n",
    "full_preds['neg'] = full_preds.apply(lambda row: 'n' if row['neg'] == 0 else 'e', axis=1)\n",
    "full_preds['change'] = full_preds.apply(lambda row: 1 if row['pos'] != row['neg'] else 0, axis=1)\n",
    "\n",
    "def combine_preds(row):\n",
    "    return row['pos']+row['neg']\n",
    "\n",
    "binary_preds['change_type'] = binary_preds.apply(combine_preds, axis=1)\n",
    "full_preds['change_type'] = full_preds.apply(combine_preds, axis=1)\n",
    "\n",
    "\n",
    "# display(binary_preds['change_type'].value_counts())\n",
    "# display(full_preds['change_type'].value_counts())\n",
    "\n",
    "print(\"percentage of initial examples: \")\n",
    "print(\"binary: \")\n",
    "total = len(binary_preds)\n",
    "print(binary_preds['pos'].value_counts()/total)\n",
    "\n",
    "print(\"full: \")\n",
    "total = len(full_preds)\n",
    "print(full_preds['pos'].value_counts()/total)\n",
    "\n",
    "\n",
    "subset = full_preds[full_preds['pos']==\"e\"]\n",
    "display(subset['neg'].value_counts()/len(subset))\n"
   ]
  },
  {
   "cell_type": "code",
   "execution_count": null,
   "metadata": {},
   "outputs": [],
   "source": [
    "#first: pos logits\n",
    "#second: neg logits\n",
    "#after that: direct, indirect effects for each i\n",
    "\n",
    "hidden_dim = 768\n",
    "column_names = [None]*(2*hidden_dim+2)\n",
    "column_names[0] = \"pos_logits\"\n",
    "column_names[1] = \"neg_logits\"\n",
    "for i in range(hidden_dim):\n",
    "    column_names[i*2+2] = str(i) + \"_dir\"\n",
    "    column_names[i*2+3] = str(i) + \"_indir\"\n",
    "\n",
    "logits = pd.read_csv('experiments/may7/binary_finetune.tsv', header=None, delimiter='\\t', names=column_names)"
   ]
  },
  {
   "cell_type": "code",
   "execution_count": null,
   "metadata": {},
   "outputs": [],
   "source": [
    "entailment_logits = logits.copy()"
   ]
  },
  {
   "cell_type": "code",
   "execution_count": null,
   "metadata": {},
   "outputs": [],
   "source": [
    "for column in logits.columns:\n",
    "    entailment_logits[column] = logits[column].apply(lambda x: float(x.split(\",\")[0][1:]))"
   ]
  },
  {
   "cell_type": "code",
   "execution_count": null,
   "metadata": {},
   "outputs": [],
   "source": [
    "display(entailment_logits)"
   ]
  },
  {
   "cell_type": "code",
   "execution_count": null,
   "metadata": {},
   "outputs": [],
   "source": [
    "print(len(entailment_logits))"
   ]
  },
  {
   "cell_type": "code",
   "execution_count": null,
   "metadata": {},
   "outputs": [],
   "source": [
    "#get average change for direct effects\n",
    "\n",
    "\n",
    "\n",
    "#get average change for indirect effects\n",
    "\n"
   ]
  }
 ],
 "metadata": {
  "kernelspec": {
   "display_name": "Python 3",
   "language": "python",
   "name": "python3"
  },
  "language_info": {
   "codemirror_mode": {
    "name": "ipython",
    "version": 3
   },
   "file_extension": ".py",
   "mimetype": "text/x-python",
   "name": "python",
   "nbconvert_exporter": "python",
   "pygments_lexer": "ipython3",
   "version": "3.6.5"
  }
 },
 "nbformat": 4,
 "nbformat_minor": 2
}
